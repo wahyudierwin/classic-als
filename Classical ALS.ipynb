{
 "cells": [
  {
   "cell_type": "code",
   "execution_count": 1,
   "metadata": {},
   "outputs": [],
   "source": [
    "dataset_folder = '/home/erwin/Downloads/ml-100k'"
   ]
  },
  {
   "cell_type": "code",
   "execution_count": 2,
   "metadata": {},
   "outputs": [],
   "source": [
    "import pandas as pd\n",
    "import numpy as np"
   ]
  },
  {
   "cell_type": "code",
   "execution_count": 3,
   "metadata": {},
   "outputs": [],
   "source": [
    "data = dataset_folder + '/u.data'"
   ]
  },
  {
   "cell_type": "code",
   "execution_count": 4,
   "metadata": {},
   "outputs": [],
   "source": [
    "columns = ['userId', 'movieId', 'rating', 't']\n",
    "df = pd.read_csv(data, names=columns, sep='\\t')"
   ]
  },
  {
   "cell_type": "code",
   "execution_count": 5,
   "metadata": {},
   "outputs": [
    {
     "data": {
      "text/html": [
       "<div>\n",
       "<style scoped>\n",
       "    .dataframe tbody tr th:only-of-type {\n",
       "        vertical-align: middle;\n",
       "    }\n",
       "\n",
       "    .dataframe tbody tr th {\n",
       "        vertical-align: top;\n",
       "    }\n",
       "\n",
       "    .dataframe thead th {\n",
       "        text-align: right;\n",
       "    }\n",
       "</style>\n",
       "<table border=\"1\" class=\"dataframe\">\n",
       "  <thead>\n",
       "    <tr style=\"text-align: right;\">\n",
       "      <th></th>\n",
       "      <th>userId</th>\n",
       "      <th>movieId</th>\n",
       "      <th>rating</th>\n",
       "      <th>t</th>\n",
       "    </tr>\n",
       "  </thead>\n",
       "  <tbody>\n",
       "    <tr>\n",
       "      <th>0</th>\n",
       "      <td>196</td>\n",
       "      <td>242</td>\n",
       "      <td>3</td>\n",
       "      <td>881250949</td>\n",
       "    </tr>\n",
       "    <tr>\n",
       "      <th>1</th>\n",
       "      <td>186</td>\n",
       "      <td>302</td>\n",
       "      <td>3</td>\n",
       "      <td>891717742</td>\n",
       "    </tr>\n",
       "    <tr>\n",
       "      <th>2</th>\n",
       "      <td>22</td>\n",
       "      <td>377</td>\n",
       "      <td>1</td>\n",
       "      <td>878887116</td>\n",
       "    </tr>\n",
       "    <tr>\n",
       "      <th>3</th>\n",
       "      <td>244</td>\n",
       "      <td>51</td>\n",
       "      <td>2</td>\n",
       "      <td>880606923</td>\n",
       "    </tr>\n",
       "    <tr>\n",
       "      <th>4</th>\n",
       "      <td>166</td>\n",
       "      <td>346</td>\n",
       "      <td>1</td>\n",
       "      <td>886397596</td>\n",
       "    </tr>\n",
       "  </tbody>\n",
       "</table>\n",
       "</div>"
      ],
      "text/plain": [
       "   userId  movieId  rating          t\n",
       "0     196      242       3  881250949\n",
       "1     186      302       3  891717742\n",
       "2      22      377       1  878887116\n",
       "3     244       51       2  880606923\n",
       "4     166      346       1  886397596"
      ]
     },
     "execution_count": 5,
     "metadata": {},
     "output_type": "execute_result"
    }
   ],
   "source": [
    "df.head()"
   ]
  },
  {
   "cell_type": "code",
   "execution_count": 6,
   "metadata": {},
   "outputs": [
    {
     "data": {
      "text/plain": [
       "405    737\n",
       "655    685\n",
       "13     636\n",
       "450    540\n",
       "276    518\n",
       "      ... \n",
       "147     20\n",
       "19      20\n",
       "572     20\n",
       "636     20\n",
       "895     20\n",
       "Name: userId, Length: 943, dtype: int64"
      ]
     },
     "execution_count": 6,
     "metadata": {},
     "output_type": "execute_result"
    }
   ],
   "source": [
    "df['userId'].value_counts()"
   ]
  },
  {
   "cell_type": "code",
   "execution_count": 7,
   "metadata": {},
   "outputs": [
    {
     "data": {
      "text/plain": [
       "50      583\n",
       "258     509\n",
       "100     508\n",
       "181     507\n",
       "294     485\n",
       "       ... \n",
       "1648      1\n",
       "1571      1\n",
       "1329      1\n",
       "1457      1\n",
       "1663      1\n",
       "Name: movieId, Length: 1682, dtype: int64"
      ]
     },
     "execution_count": 7,
     "metadata": {},
     "output_type": "execute_result"
    }
   ],
   "source": [
    "df['movieId'].value_counts()"
   ]
  },
  {
   "cell_type": "code",
   "execution_count": 8,
   "metadata": {},
   "outputs": [
    {
     "data": {
      "text/plain": [
       "4    34174\n",
       "3    27145\n",
       "5    21201\n",
       "2    11370\n",
       "1     6110\n",
       "Name: rating, dtype: int64"
      ]
     },
     "execution_count": 8,
     "metadata": {},
     "output_type": "execute_result"
    }
   ],
   "source": [
    "df['rating'].value_counts()"
   ]
  },
  {
   "cell_type": "code",
   "execution_count": 9,
   "metadata": {},
   "outputs": [],
   "source": [
    "movie = dataset_folder + '/u.item'"
   ]
  },
  {
   "cell_type": "code",
   "execution_count": 10,
   "metadata": {},
   "outputs": [
    {
     "name": "stderr",
     "output_type": "stream",
     "text": [
      "/home/erwin/.local/lib/python3.6/site-packages/ipykernel_launcher.py:1: ParserWarning: Falling back to the 'python' engine because the 'c' engine does not support regex separators (separators > 1 char and different from '\\s+' are interpreted as regex); you can avoid this warning by specifying engine='python'.\n",
      "  \"\"\"Entry point for launching an IPython kernel.\n"
     ]
    }
   ],
   "source": [
    "df_movie = pd.read_csv(movie, sep='\\|')"
   ]
  },
  {
   "cell_type": "code",
   "execution_count": 11,
   "metadata": {},
   "outputs": [
    {
     "data": {
      "text/html": [
       "<div>\n",
       "<style scoped>\n",
       "    .dataframe tbody tr th:only-of-type {\n",
       "        vertical-align: middle;\n",
       "    }\n",
       "\n",
       "    .dataframe tbody tr th {\n",
       "        vertical-align: top;\n",
       "    }\n",
       "\n",
       "    .dataframe thead th {\n",
       "        text-align: right;\n",
       "    }\n",
       "</style>\n",
       "<table border=\"1\" class=\"dataframe\">\n",
       "  <thead>\n",
       "    <tr style=\"text-align: right;\">\n",
       "      <th></th>\n",
       "      <th>1</th>\n",
       "      <th>Toy Story (1995)</th>\n",
       "      <th>01-Jan-1995</th>\n",
       "      <th>Unnamed: 3</th>\n",
       "      <th>http://us.imdb.com/M/title-exact?Toy%20Story%20(1995)</th>\n",
       "      <th>0</th>\n",
       "      <th>0.1</th>\n",
       "      <th>0.2</th>\n",
       "      <th>1.1</th>\n",
       "      <th>1.2</th>\n",
       "      <th>...</th>\n",
       "      <th>0.6</th>\n",
       "      <th>0.7</th>\n",
       "      <th>0.8</th>\n",
       "      <th>0.9</th>\n",
       "      <th>0.10</th>\n",
       "      <th>0.11</th>\n",
       "      <th>0.12</th>\n",
       "      <th>0.13</th>\n",
       "      <th>0.14</th>\n",
       "      <th>0.15</th>\n",
       "    </tr>\n",
       "  </thead>\n",
       "  <tbody>\n",
       "    <tr>\n",
       "      <th>0</th>\n",
       "      <td>2</td>\n",
       "      <td>GoldenEye (1995)</td>\n",
       "      <td>01-Jan-1995</td>\n",
       "      <td>NaN</td>\n",
       "      <td>http://us.imdb.com/M/title-exact?GoldenEye%20(...</td>\n",
       "      <td>0</td>\n",
       "      <td>1</td>\n",
       "      <td>1</td>\n",
       "      <td>0</td>\n",
       "      <td>0</td>\n",
       "      <td>...</td>\n",
       "      <td>0</td>\n",
       "      <td>0</td>\n",
       "      <td>0</td>\n",
       "      <td>0</td>\n",
       "      <td>0</td>\n",
       "      <td>0</td>\n",
       "      <td>0</td>\n",
       "      <td>1</td>\n",
       "      <td>0</td>\n",
       "      <td>0</td>\n",
       "    </tr>\n",
       "    <tr>\n",
       "      <th>1</th>\n",
       "      <td>3</td>\n",
       "      <td>Four Rooms (1995)</td>\n",
       "      <td>01-Jan-1995</td>\n",
       "      <td>NaN</td>\n",
       "      <td>http://us.imdb.com/M/title-exact?Four%20Rooms%...</td>\n",
       "      <td>0</td>\n",
       "      <td>0</td>\n",
       "      <td>0</td>\n",
       "      <td>0</td>\n",
       "      <td>0</td>\n",
       "      <td>...</td>\n",
       "      <td>0</td>\n",
       "      <td>0</td>\n",
       "      <td>0</td>\n",
       "      <td>0</td>\n",
       "      <td>0</td>\n",
       "      <td>0</td>\n",
       "      <td>0</td>\n",
       "      <td>1</td>\n",
       "      <td>0</td>\n",
       "      <td>0</td>\n",
       "    </tr>\n",
       "    <tr>\n",
       "      <th>2</th>\n",
       "      <td>4</td>\n",
       "      <td>Get Shorty (1995)</td>\n",
       "      <td>01-Jan-1995</td>\n",
       "      <td>NaN</td>\n",
       "      <td>http://us.imdb.com/M/title-exact?Get%20Shorty%...</td>\n",
       "      <td>0</td>\n",
       "      <td>1</td>\n",
       "      <td>0</td>\n",
       "      <td>0</td>\n",
       "      <td>0</td>\n",
       "      <td>...</td>\n",
       "      <td>0</td>\n",
       "      <td>0</td>\n",
       "      <td>0</td>\n",
       "      <td>0</td>\n",
       "      <td>0</td>\n",
       "      <td>0</td>\n",
       "      <td>0</td>\n",
       "      <td>0</td>\n",
       "      <td>0</td>\n",
       "      <td>0</td>\n",
       "    </tr>\n",
       "    <tr>\n",
       "      <th>3</th>\n",
       "      <td>5</td>\n",
       "      <td>Copycat (1995)</td>\n",
       "      <td>01-Jan-1995</td>\n",
       "      <td>NaN</td>\n",
       "      <td>http://us.imdb.com/M/title-exact?Copycat%20(1995)</td>\n",
       "      <td>0</td>\n",
       "      <td>0</td>\n",
       "      <td>0</td>\n",
       "      <td>0</td>\n",
       "      <td>0</td>\n",
       "      <td>...</td>\n",
       "      <td>0</td>\n",
       "      <td>0</td>\n",
       "      <td>0</td>\n",
       "      <td>0</td>\n",
       "      <td>0</td>\n",
       "      <td>0</td>\n",
       "      <td>0</td>\n",
       "      <td>1</td>\n",
       "      <td>0</td>\n",
       "      <td>0</td>\n",
       "    </tr>\n",
       "    <tr>\n",
       "      <th>4</th>\n",
       "      <td>6</td>\n",
       "      <td>Shanghai Triad (Yao a yao yao dao waipo qiao) ...</td>\n",
       "      <td>01-Jan-1995</td>\n",
       "      <td>NaN</td>\n",
       "      <td>http://us.imdb.com/Title?Yao+a+yao+yao+dao+wai...</td>\n",
       "      <td>0</td>\n",
       "      <td>0</td>\n",
       "      <td>0</td>\n",
       "      <td>0</td>\n",
       "      <td>0</td>\n",
       "      <td>...</td>\n",
       "      <td>0</td>\n",
       "      <td>0</td>\n",
       "      <td>0</td>\n",
       "      <td>0</td>\n",
       "      <td>0</td>\n",
       "      <td>0</td>\n",
       "      <td>0</td>\n",
       "      <td>0</td>\n",
       "      <td>0</td>\n",
       "      <td>0</td>\n",
       "    </tr>\n",
       "    <tr>\n",
       "      <th>...</th>\n",
       "      <td>...</td>\n",
       "      <td>...</td>\n",
       "      <td>...</td>\n",
       "      <td>...</td>\n",
       "      <td>...</td>\n",
       "      <td>...</td>\n",
       "      <td>...</td>\n",
       "      <td>...</td>\n",
       "      <td>...</td>\n",
       "      <td>...</td>\n",
       "      <td>...</td>\n",
       "      <td>...</td>\n",
       "      <td>...</td>\n",
       "      <td>...</td>\n",
       "      <td>...</td>\n",
       "      <td>...</td>\n",
       "      <td>...</td>\n",
       "      <td>...</td>\n",
       "      <td>...</td>\n",
       "      <td>...</td>\n",
       "      <td>...</td>\n",
       "    </tr>\n",
       "    <tr>\n",
       "      <th>1676</th>\n",
       "      <td>1678</td>\n",
       "      <td>Mat' i syn (1997)</td>\n",
       "      <td>06-Feb-1998</td>\n",
       "      <td>NaN</td>\n",
       "      <td>http://us.imdb.com/M/title-exact?Mat%27+i+syn+...</td>\n",
       "      <td>0</td>\n",
       "      <td>0</td>\n",
       "      <td>0</td>\n",
       "      <td>0</td>\n",
       "      <td>0</td>\n",
       "      <td>...</td>\n",
       "      <td>0</td>\n",
       "      <td>0</td>\n",
       "      <td>0</td>\n",
       "      <td>0</td>\n",
       "      <td>0</td>\n",
       "      <td>0</td>\n",
       "      <td>0</td>\n",
       "      <td>0</td>\n",
       "      <td>0</td>\n",
       "      <td>0</td>\n",
       "    </tr>\n",
       "    <tr>\n",
       "      <th>1677</th>\n",
       "      <td>1679</td>\n",
       "      <td>B. Monkey (1998)</td>\n",
       "      <td>06-Feb-1998</td>\n",
       "      <td>NaN</td>\n",
       "      <td>http://us.imdb.com/M/title-exact?B%2E+Monkey+(...</td>\n",
       "      <td>0</td>\n",
       "      <td>0</td>\n",
       "      <td>0</td>\n",
       "      <td>0</td>\n",
       "      <td>0</td>\n",
       "      <td>...</td>\n",
       "      <td>0</td>\n",
       "      <td>0</td>\n",
       "      <td>0</td>\n",
       "      <td>0</td>\n",
       "      <td>0</td>\n",
       "      <td>1</td>\n",
       "      <td>0</td>\n",
       "      <td>1</td>\n",
       "      <td>0</td>\n",
       "      <td>0</td>\n",
       "    </tr>\n",
       "    <tr>\n",
       "      <th>1678</th>\n",
       "      <td>1680</td>\n",
       "      <td>Sliding Doors (1998)</td>\n",
       "      <td>01-Jan-1998</td>\n",
       "      <td>NaN</td>\n",
       "      <td>http://us.imdb.com/Title?Sliding+Doors+(1998)</td>\n",
       "      <td>0</td>\n",
       "      <td>0</td>\n",
       "      <td>0</td>\n",
       "      <td>0</td>\n",
       "      <td>0</td>\n",
       "      <td>...</td>\n",
       "      <td>0</td>\n",
       "      <td>0</td>\n",
       "      <td>0</td>\n",
       "      <td>0</td>\n",
       "      <td>0</td>\n",
       "      <td>1</td>\n",
       "      <td>0</td>\n",
       "      <td>0</td>\n",
       "      <td>0</td>\n",
       "      <td>0</td>\n",
       "    </tr>\n",
       "    <tr>\n",
       "      <th>1679</th>\n",
       "      <td>1681</td>\n",
       "      <td>You So Crazy (1994)</td>\n",
       "      <td>01-Jan-1994</td>\n",
       "      <td>NaN</td>\n",
       "      <td>http://us.imdb.com/M/title-exact?You%20So%20Cr...</td>\n",
       "      <td>0</td>\n",
       "      <td>0</td>\n",
       "      <td>0</td>\n",
       "      <td>0</td>\n",
       "      <td>0</td>\n",
       "      <td>...</td>\n",
       "      <td>0</td>\n",
       "      <td>0</td>\n",
       "      <td>0</td>\n",
       "      <td>0</td>\n",
       "      <td>0</td>\n",
       "      <td>0</td>\n",
       "      <td>0</td>\n",
       "      <td>0</td>\n",
       "      <td>0</td>\n",
       "      <td>0</td>\n",
       "    </tr>\n",
       "    <tr>\n",
       "      <th>1680</th>\n",
       "      <td>1682</td>\n",
       "      <td>Scream of Stone (Schrei aus Stein) (1991)</td>\n",
       "      <td>08-Mar-1996</td>\n",
       "      <td>NaN</td>\n",
       "      <td>http://us.imdb.com/M/title-exact?Schrei%20aus%...</td>\n",
       "      <td>0</td>\n",
       "      <td>0</td>\n",
       "      <td>0</td>\n",
       "      <td>0</td>\n",
       "      <td>0</td>\n",
       "      <td>...</td>\n",
       "      <td>0</td>\n",
       "      <td>0</td>\n",
       "      <td>0</td>\n",
       "      <td>0</td>\n",
       "      <td>0</td>\n",
       "      <td>0</td>\n",
       "      <td>0</td>\n",
       "      <td>0</td>\n",
       "      <td>0</td>\n",
       "      <td>0</td>\n",
       "    </tr>\n",
       "  </tbody>\n",
       "</table>\n",
       "<p>1681 rows × 24 columns</p>\n",
       "</div>"
      ],
      "text/plain": [
       "         1                                   Toy Story (1995)  01-Jan-1995  \\\n",
       "0        2                                   GoldenEye (1995)  01-Jan-1995   \n",
       "1        3                                  Four Rooms (1995)  01-Jan-1995   \n",
       "2        4                                  Get Shorty (1995)  01-Jan-1995   \n",
       "3        5                                     Copycat (1995)  01-Jan-1995   \n",
       "4        6  Shanghai Triad (Yao a yao yao dao waipo qiao) ...  01-Jan-1995   \n",
       "...    ...                                                ...          ...   \n",
       "1676  1678                                  Mat' i syn (1997)  06-Feb-1998   \n",
       "1677  1679                                   B. Monkey (1998)  06-Feb-1998   \n",
       "1678  1680                               Sliding Doors (1998)  01-Jan-1998   \n",
       "1679  1681                                You So Crazy (1994)  01-Jan-1994   \n",
       "1680  1682          Scream of Stone (Schrei aus Stein) (1991)  08-Mar-1996   \n",
       "\n",
       "      Unnamed: 3 http://us.imdb.com/M/title-exact?Toy%20Story%20(1995)  0  \\\n",
       "0            NaN  http://us.imdb.com/M/title-exact?GoldenEye%20(...     0   \n",
       "1            NaN  http://us.imdb.com/M/title-exact?Four%20Rooms%...     0   \n",
       "2            NaN  http://us.imdb.com/M/title-exact?Get%20Shorty%...     0   \n",
       "3            NaN  http://us.imdb.com/M/title-exact?Copycat%20(1995)     0   \n",
       "4            NaN  http://us.imdb.com/Title?Yao+a+yao+yao+dao+wai...     0   \n",
       "...          ...                                                ...    ..   \n",
       "1676         NaN  http://us.imdb.com/M/title-exact?Mat%27+i+syn+...     0   \n",
       "1677         NaN  http://us.imdb.com/M/title-exact?B%2E+Monkey+(...     0   \n",
       "1678         NaN      http://us.imdb.com/Title?Sliding+Doors+(1998)     0   \n",
       "1679         NaN  http://us.imdb.com/M/title-exact?You%20So%20Cr...     0   \n",
       "1680         NaN  http://us.imdb.com/M/title-exact?Schrei%20aus%...     0   \n",
       "\n",
       "      0.1  0.2  1.1  1.2  ...  0.6  0.7  0.8  0.9  0.10  0.11  0.12  0.13  \\\n",
       "0       1    1    0    0  ...    0    0    0    0     0     0     0     1   \n",
       "1       0    0    0    0  ...    0    0    0    0     0     0     0     1   \n",
       "2       1    0    0    0  ...    0    0    0    0     0     0     0     0   \n",
       "3       0    0    0    0  ...    0    0    0    0     0     0     0     1   \n",
       "4       0    0    0    0  ...    0    0    0    0     0     0     0     0   \n",
       "...   ...  ...  ...  ...  ...  ...  ...  ...  ...   ...   ...   ...   ...   \n",
       "1676    0    0    0    0  ...    0    0    0    0     0     0     0     0   \n",
       "1677    0    0    0    0  ...    0    0    0    0     0     1     0     1   \n",
       "1678    0    0    0    0  ...    0    0    0    0     0     1     0     0   \n",
       "1679    0    0    0    0  ...    0    0    0    0     0     0     0     0   \n",
       "1680    0    0    0    0  ...    0    0    0    0     0     0     0     0   \n",
       "\n",
       "      0.14  0.15  \n",
       "0        0     0  \n",
       "1        0     0  \n",
       "2        0     0  \n",
       "3        0     0  \n",
       "4        0     0  \n",
       "...    ...   ...  \n",
       "1676     0     0  \n",
       "1677     0     0  \n",
       "1678     0     0  \n",
       "1679     0     0  \n",
       "1680     0     0  \n",
       "\n",
       "[1681 rows x 24 columns]"
      ]
     },
     "execution_count": 11,
     "metadata": {},
     "output_type": "execute_result"
    }
   ],
   "source": [
    "df_movie"
   ]
  },
  {
   "cell_type": "code",
   "execution_count": 12,
   "metadata": {},
   "outputs": [],
   "source": [
    "df_filtered = df[['userId', 'movieId', 'rating']]"
   ]
  },
  {
   "cell_type": "code",
   "execution_count": 13,
   "metadata": {},
   "outputs": [
    {
     "data": {
      "text/html": [
       "<div>\n",
       "<style scoped>\n",
       "    .dataframe tbody tr th:only-of-type {\n",
       "        vertical-align: middle;\n",
       "    }\n",
       "\n",
       "    .dataframe tbody tr th {\n",
       "        vertical-align: top;\n",
       "    }\n",
       "\n",
       "    .dataframe thead th {\n",
       "        text-align: right;\n",
       "    }\n",
       "</style>\n",
       "<table border=\"1\" class=\"dataframe\">\n",
       "  <thead>\n",
       "    <tr style=\"text-align: right;\">\n",
       "      <th></th>\n",
       "      <th>userId</th>\n",
       "      <th>movieId</th>\n",
       "      <th>rating</th>\n",
       "    </tr>\n",
       "  </thead>\n",
       "  <tbody>\n",
       "    <tr>\n",
       "      <th>0</th>\n",
       "      <td>196</td>\n",
       "      <td>242</td>\n",
       "      <td>3</td>\n",
       "    </tr>\n",
       "    <tr>\n",
       "      <th>1</th>\n",
       "      <td>186</td>\n",
       "      <td>302</td>\n",
       "      <td>3</td>\n",
       "    </tr>\n",
       "    <tr>\n",
       "      <th>2</th>\n",
       "      <td>22</td>\n",
       "      <td>377</td>\n",
       "      <td>1</td>\n",
       "    </tr>\n",
       "    <tr>\n",
       "      <th>3</th>\n",
       "      <td>244</td>\n",
       "      <td>51</td>\n",
       "      <td>2</td>\n",
       "    </tr>\n",
       "    <tr>\n",
       "      <th>4</th>\n",
       "      <td>166</td>\n",
       "      <td>346</td>\n",
       "      <td>1</td>\n",
       "    </tr>\n",
       "  </tbody>\n",
       "</table>\n",
       "</div>"
      ],
      "text/plain": [
       "   userId  movieId  rating\n",
       "0     196      242       3\n",
       "1     186      302       3\n",
       "2      22      377       1\n",
       "3     244       51       2\n",
       "4     166      346       1"
      ]
     },
     "execution_count": 13,
     "metadata": {},
     "output_type": "execute_result"
    }
   ],
   "source": [
    "df_filtered.head()"
   ]
  },
  {
   "cell_type": "code",
   "execution_count": 14,
   "metadata": {},
   "outputs": [],
   "source": [
    "k = 20"
   ]
  },
  {
   "cell_type": "code",
   "execution_count": 15,
   "metadata": {},
   "outputs": [],
   "source": [
    "sparsity = 100000 / (1682 * 943)"
   ]
  },
  {
   "cell_type": "code",
   "execution_count": 16,
   "metadata": {},
   "outputs": [
    {
     "data": {
      "text/plain": [
       "0.06304669364224531"
      ]
     },
     "execution_count": 16,
     "metadata": {},
     "output_type": "execute_result"
    }
   ],
   "source": [
    "sparsity"
   ]
  },
  {
   "cell_type": "code",
   "execution_count": 17,
   "metadata": {},
   "outputs": [],
   "source": [
    "R = np.zeros((943, 1682))"
   ]
  },
  {
   "cell_type": "code",
   "execution_count": 18,
   "metadata": {},
   "outputs": [
    {
     "data": {
      "text/plain": [
       "array([[0., 0., 0., ..., 0., 0., 0.],\n",
       "       [0., 0., 0., ..., 0., 0., 0.],\n",
       "       [0., 0., 0., ..., 0., 0., 0.],\n",
       "       ...,\n",
       "       [0., 0., 0., ..., 0., 0., 0.],\n",
       "       [0., 0., 0., ..., 0., 0., 0.],\n",
       "       [0., 0., 0., ..., 0., 0., 0.]])"
      ]
     },
     "execution_count": 18,
     "metadata": {},
     "output_type": "execute_result"
    }
   ],
   "source": [
    "R"
   ]
  },
  {
   "cell_type": "code",
   "execution_count": 19,
   "metadata": {},
   "outputs": [],
   "source": [
    "for row in df_filtered.values:\n",
    "#     print(row)\n",
    "    R[ row[0]-1, row[1]-1 ] = row[2]"
   ]
  },
  {
   "cell_type": "code",
   "execution_count": 20,
   "metadata": {},
   "outputs": [
    {
     "data": {
      "text/plain": [
       "1682"
      ]
     },
     "execution_count": 20,
     "metadata": {},
     "output_type": "execute_result"
    }
   ],
   "source": [
    "max(df['movieId'])"
   ]
  },
  {
   "cell_type": "code",
   "execution_count": 21,
   "metadata": {},
   "outputs": [
    {
     "data": {
      "text/plain": [
       "1"
      ]
     },
     "execution_count": 21,
     "metadata": {},
     "output_type": "execute_result"
    }
   ],
   "source": [
    "min(df['movieId'])"
   ]
  },
  {
   "cell_type": "code",
   "execution_count": 22,
   "metadata": {},
   "outputs": [
    {
     "data": {
      "text/plain": [
       "array([[5., 3., 4., ..., 0., 0., 0.],\n",
       "       [4., 0., 0., ..., 0., 0., 0.],\n",
       "       [0., 0., 0., ..., 0., 0., 0.],\n",
       "       ...,\n",
       "       [5., 0., 0., ..., 0., 0., 0.],\n",
       "       [0., 0., 0., ..., 0., 0., 0.],\n",
       "       [0., 5., 0., ..., 0., 0., 0.]])"
      ]
     },
     "execution_count": 22,
     "metadata": {},
     "output_type": "execute_result"
    }
   ],
   "source": [
    "R"
   ]
  },
  {
   "cell_type": "code",
   "execution_count": 23,
   "metadata": {},
   "outputs": [],
   "source": [
    "# X = np.random.rand(943,k)\n",
    "# Y = np.random.rand(1682,k)\n",
    "X = np.ones((943,k))\n",
    "Y = np.ones((1682,k))"
   ]
  },
  {
   "cell_type": "code",
   "execution_count": 24,
   "metadata": {},
   "outputs": [
    {
     "data": {
      "text/plain": [
       "943"
      ]
     },
     "execution_count": 24,
     "metadata": {},
     "output_type": "execute_result"
    }
   ],
   "source": [
    "X.shape[0]"
   ]
  },
  {
   "cell_type": "code",
   "execution_count": 25,
   "metadata": {},
   "outputs": [],
   "source": [
    "epochs = 1000"
   ]
  },
  {
   "cell_type": "code",
   "execution_count": 26,
   "metadata": {},
   "outputs": [],
   "source": [
    "def ALS_v1(R, epochs=10, _lambda=0.1):\n",
    "    # X = np.random.rand(943,k)\n",
    "    # Y = np.random.rand(1682,k)\n",
    "    X = np.ones((943,k))\n",
    "    Y = np.ones((1682,k))\n",
    "    \n",
    "    for _ in range(epochs):\n",
    "        # Xu^T = Ru . Y(Y^TY + lambda*Ik)^(-1) -> ruas kanan = (1,1682) . (1682,k) . (k,k) = 1,k\n",
    "        # Ru = R[u,:]\n",
    "        precompute_Y = np.matmul(Y, (np.linalg.inv( np.matmul(Y.T, Y) + (_lambda * np.eye(Y.shape[1])) )))\n",
    "        for u in range(X.shape[0]):\n",
    "            X[u,:] = np.matmul(R[u,:], precompute_Y)\n",
    "\n",
    "        # Yi^T = Ri . X(X^TX + lambda*Ik)^(-1) -> ruas kanan = (1,943) . (943,k) . (k,k) = 1,k\n",
    "        # Ri = R[:,i]\n",
    "        precompute_X = np.matmul(X, (np.linalg.inv( np.matmul(X.T, X) + (_lambda * np.eye(Y.shape[1])) )))\n",
    "        for i in range(Y.shape[0]):\n",
    "            Y[i,:] = np.matmul(R[:,i], precompute_X)\n",
    "        \n",
    "    return X, Y"
   ]
  },
  {
   "cell_type": "code",
   "execution_count": 27,
   "metadata": {},
   "outputs": [],
   "source": [
    "def ALS_v2(R, epochs=10, _lambda=0.1):\n",
    "    # X = np.random.rand(943,k)\n",
    "    # Y = np.random.rand(1682,k)\n",
    "    X = np.ones((k,943))\n",
    "    Y = np.ones((k,1682))\n",
    "    \n",
    "    for _ in range(epochs):\n",
    "        # U = X, V = Y\n",
    "        # U=(VVT+λI)^(−1).V.RT\n",
    "        X = np.matmul( np.matmul( np.linalg.inv(np.matmul(Y, Y.T) + (_lambda * np.eye(Y.shape[0]))) ,Y) , R.T)\n",
    "        Y = np.matmul( np.matmul( np.linalg.inv(np.matmul(X, X.T) + (_lambda * np.eye(X.shape[0]))) ,X) , R)\n",
    "        \n",
    "    return X.T, Y.T"
   ]
  },
  {
   "cell_type": "code",
   "execution_count": 28,
   "metadata": {},
   "outputs": [],
   "source": [
    "X1, Y1 = ALS_v1(R, epochs=100)"
   ]
  },
  {
   "cell_type": "code",
   "execution_count": 44,
   "metadata": {},
   "outputs": [],
   "source": [
    "X2, Y2 = ALS_v2(R, epochs=100)"
   ]
  },
  {
   "cell_type": "code",
   "execution_count": 30,
   "metadata": {},
   "outputs": [
    {
     "data": {
      "text/plain": [
       "array([[-0.62888129,  0.04622367, -0.40837492, ...,  0.215538  ,\n",
       "        -0.11122853,  1.36109903],\n",
       "       [ 1.67566865, -0.25736797,  0.7877733 , ..., -0.58073214,\n",
       "         1.33365658,  0.4126542 ],\n",
       "       [ 0.03695677,  0.34771164,  0.37734722, ..., -1.05836945,\n",
       "         0.95836859,  0.32877092],\n",
       "       ...,\n",
       "       [ 0.60338153, -0.32602861,  0.44380638, ..., -0.48928238,\n",
       "         0.3665849 ,  0.5313463 ],\n",
       "       [ 0.28951234, -0.17208016,  0.30800259, ...,  0.31327668,\n",
       "         0.96206157, -0.2945754 ],\n",
       "       [-0.94847765,  0.40925931, -0.06780741, ...,  0.30588118,\n",
       "        -1.44637894, -0.23151667]])"
      ]
     },
     "execution_count": 30,
     "metadata": {},
     "output_type": "execute_result"
    }
   ],
   "source": [
    "X1"
   ]
  },
  {
   "cell_type": "code",
   "execution_count": 31,
   "metadata": {},
   "outputs": [
    {
     "data": {
      "text/plain": [
       "array([[ 5.27238249e+00,  7.02539712e-01,  1.89732108e+00, ...,\n",
       "         2.33597548e+00,  2.27359402e+00,  3.68447484e+00],\n",
       "       [ 2.19910166e+00,  9.10521505e-01,  5.18658057e-01, ...,\n",
       "         1.27615235e+00,  8.52659561e-01,  1.43209013e+00],\n",
       "       [ 6.95502538e-01,  1.31975712e-01,  7.25286995e-01, ...,\n",
       "         1.46142932e-01,  2.36119182e-01,  6.67376791e-01],\n",
       "       ...,\n",
       "       [-7.83916366e-03, -6.07638612e-03, -1.15168284e-03, ...,\n",
       "        -2.43819343e-03,  1.10664438e-02,  6.57305880e-03],\n",
       "       [ 2.12838812e-02, -1.32899901e-05,  1.19623839e-02, ...,\n",
       "         4.61279888e-03,  2.63159594e-02, -2.83372420e-04],\n",
       "       [-3.15327349e-02,  1.19867600e-02,  3.75807615e-02, ...,\n",
       "         8.33264440e-04,  8.08899304e-04,  4.65006639e-03]])"
      ]
     },
     "execution_count": 31,
     "metadata": {},
     "output_type": "execute_result"
    }
   ],
   "source": [
    "Y1"
   ]
  },
  {
   "cell_type": "code",
   "execution_count": 32,
   "metadata": {},
   "outputs": [
    {
     "data": {
      "text/plain": [
       "4.004893923702938"
      ]
     },
     "execution_count": 32,
     "metadata": {},
     "output_type": "execute_result"
    }
   ],
   "source": [
    "np.dot(X1[0,:], Y1[0,:])"
   ]
  },
  {
   "cell_type": "code",
   "execution_count": 33,
   "metadata": {},
   "outputs": [
    {
     "data": {
      "text/plain": [
       "5.0"
      ]
     },
     "execution_count": 33,
     "metadata": {},
     "output_type": "execute_result"
    }
   ],
   "source": [
    "R[0,0]"
   ]
  },
  {
   "cell_type": "code",
   "execution_count": 45,
   "metadata": {},
   "outputs": [
    {
     "data": {
      "text/plain": [
       "array([[ 0.99978272, -1.42504711,  0.72524613, ..., -0.76319072,\n",
       "         1.15768675, -0.39905341],\n",
       "       [-1.46876613,  0.35854473,  0.1233039 , ...,  1.73867564,\n",
       "         1.01392611, -0.87520949],\n",
       "       [-0.34642847, -0.1039357 , -0.61695673, ...,  1.29766264,\n",
       "         0.43918922, -0.09056269],\n",
       "       ...,\n",
       "       [-0.79090614, -0.04040614, -0.03837863, ...,  0.16214273,\n",
       "         0.42556117,  0.36097415],\n",
       "       [-0.68411797,  0.84591001,  0.27283549, ...,  1.46760637,\n",
       "        -0.14433996,  0.82501748],\n",
       "       [ 0.92029312, -0.25316253, -1.43160762, ..., -1.71330337,\n",
       "        -1.06238367,  0.34370235]])"
      ]
     },
     "execution_count": 45,
     "metadata": {},
     "output_type": "execute_result"
    }
   ],
   "source": [
    "X2"
   ]
  },
  {
   "cell_type": "code",
   "execution_count": 46,
   "metadata": {},
   "outputs": [
    {
     "data": {
      "text/plain": [
       "array([[ 1.96859149e+00,  3.31869362e+00,  2.64059316e+00, ...,\n",
       "         3.10387381e+00,  3.21142358e+00,  2.97659026e+00],\n",
       "       [ 1.23679876e+00,  1.52587604e+00,  8.70115770e-01, ...,\n",
       "         1.33659242e+00,  4.89999745e-01,  8.08903770e-01],\n",
       "       [ 2.69319628e-01,  4.33497983e-01,  9.08039153e-01, ...,\n",
       "         2.12914596e-01,  6.77654617e-01,  6.18298393e-01],\n",
       "       ...,\n",
       "       [-1.71719914e-03,  3.60514735e-03,  2.84821993e-03, ...,\n",
       "        -1.00447065e-03,  2.19041928e-03,  5.50084002e-03],\n",
       "       [ 2.16127717e-02,  3.07501609e-02,  1.61141798e-02, ...,\n",
       "         2.86167937e-02, -6.94401828e-03, -2.26363061e-04],\n",
       "       [ 3.10817396e-03, -1.92484350e-03,  2.22280661e-02, ...,\n",
       "        -1.52936337e-03,  2.94917684e-02,  1.01664024e-02]])"
      ]
     },
     "execution_count": 46,
     "metadata": {},
     "output_type": "execute_result"
    }
   ],
   "source": [
    "Y2"
   ]
  },
  {
   "cell_type": "code",
   "execution_count": 47,
   "metadata": {},
   "outputs": [
    {
     "data": {
      "text/plain": [
       "4.000867405632302"
      ]
     },
     "execution_count": 47,
     "metadata": {},
     "output_type": "execute_result"
    }
   ],
   "source": [
    "np.dot(X2[0,:], Y2[0,:])"
   ]
  },
  {
   "cell_type": "code",
   "execution_count": 37,
   "metadata": {},
   "outputs": [],
   "source": [
    "R1 = np.matmul(X1, Y1.T)"
   ]
  },
  {
   "cell_type": "code",
   "execution_count": 38,
   "metadata": {},
   "outputs": [
    {
     "data": {
      "text/plain": [
       "array([[ 4.00489392e+00,  2.09971253e+00,  1.37264317e+00, ...,\n",
       "        -3.84056555e-03,  2.62896077e-02,  7.33308327e-02],\n",
       "       [ 1.98936884e+00, -2.09204745e-02, -4.69196534e-03, ...,\n",
       "         9.28223688e-03, -2.66729697e-03, -2.94588208e-02],\n",
       "       [-1.75890007e-01, -5.61772097e-02,  1.80497693e-01, ...,\n",
       "         2.16326607e-02,  1.89999608e-03,  2.00743038e-04],\n",
       "       ...,\n",
       "       [ 2.23120754e+00,  3.75971074e-02,  2.76000861e-01, ...,\n",
       "        -5.51582355e-03,  1.06521206e-02, -4.20623069e-03],\n",
       "       [ 1.30268561e+00,  1.52101883e-01, -4.76609785e-01, ...,\n",
       "         1.50266816e-02,  1.14518680e-02, -2.94552835e-02],\n",
       "       [ 1.70921256e+00,  2.04716259e+00,  1.17928321e+00, ...,\n",
       "        -9.90463051e-03,  1.73748658e-02,  2.05664464e-02]])"
      ]
     },
     "execution_count": 38,
     "metadata": {},
     "output_type": "execute_result"
    }
   ],
   "source": [
    "R1"
   ]
  },
  {
   "cell_type": "code",
   "execution_count": 48,
   "metadata": {},
   "outputs": [],
   "source": [
    "R2 = np.matmul(X2, Y2.T)"
   ]
  },
  {
   "cell_type": "code",
   "execution_count": 49,
   "metadata": {},
   "outputs": [
    {
     "data": {
      "text/plain": [
       "array([[ 4.00086741e+00,  2.09817445e+00,  1.37399060e+00, ...,\n",
       "        -3.78011985e-03,  2.63031353e-02,  7.34691997e-02],\n",
       "       [ 1.98856773e+00, -2.10028454e-02, -4.92384406e-03, ...,\n",
       "         9.27331834e-03, -2.67938786e-03, -2.94858661e-02],\n",
       "       [-1.74942692e-01, -5.53220220e-02,  1.80760140e-01, ...,\n",
       "         2.16303492e-02,  1.89926232e-03,  2.41687606e-04],\n",
       "       ...,\n",
       "       [ 2.23179156e+00,  3.71148605e-02,  2.75408280e-01, ...,\n",
       "        -5.51621570e-03,  1.06594824e-02, -4.29622053e-03],\n",
       "       [ 1.30409020e+00,  1.52537224e-01, -4.76178638e-01, ...,\n",
       "         1.50309947e-02,  1.14582359e-02, -2.94495805e-02],\n",
       "       [ 1.71279623e+00,  2.04978179e+00,  1.18054401e+00, ...,\n",
       "        -9.89222550e-03,  1.73578345e-02,  2.06545320e-02]])"
      ]
     },
     "execution_count": 49,
     "metadata": {},
     "output_type": "execute_result"
    }
   ],
   "source": [
    "R2"
   ]
  },
  {
   "cell_type": "markdown",
   "metadata": {},
   "source": [
    "## Get Recommendation"
   ]
  },
  {
   "cell_type": "markdown",
   "metadata": {},
   "source": [
    "input = (prediction ratings, user id, top n reco)"
   ]
  },
  {
   "cell_type": "code",
   "execution_count": 67,
   "metadata": {},
   "outputs": [],
   "source": [
    "def get_reco(original_R, predicted_R, user_id, top_n=10):\n",
    "    if user_id > 942:\n",
    "        return []\n",
    "    \n",
    "    result = []\n",
    "    predicted_ratings = predicted_R[user_id, :]\n",
    "    result = list(zip(predicted_ratings, [i for i in range(len(predicted_ratings))]))\n",
    "    result.sort(key=lambda x: (-x[0]))\n",
    "    \n",
    "    filtered = [x for x in result if original_R[user_id, x[1]] == 0]\n",
    "    return [x[1] for x in filtered[:top_n]]"
   ]
  },
  {
   "cell_type": "code",
   "execution_count": 68,
   "metadata": {},
   "outputs": [
    {
     "name": "stdout",
     "output_type": "stream",
     "text": [
      "1682\n"
     ]
    },
    {
     "data": {
      "text/plain": [
       "[99, 49, 167, 173, 152, 88, 143, 172, 175, 227]"
      ]
     },
     "execution_count": 68,
     "metadata": {},
     "output_type": "execute_result"
    }
   ],
   "source": [
    "get_reco(R, R2, 0)"
   ]
  },
  {
   "cell_type": "code",
   "execution_count": 60,
   "metadata": {},
   "outputs": [
    {
     "data": {
      "text/plain": [
       "[120, 404, 116, 117, 741, 0, 236, 124, 596, 180]"
      ]
     },
     "execution_count": 60,
     "metadata": {},
     "output_type": "execute_result"
    }
   ],
   "source": [
    "get_reco(R, R1, 100)"
   ]
  },
  {
   "cell_type": "code",
   "execution_count": 65,
   "metadata": {},
   "outputs": [
    {
     "name": "stdout",
     "output_type": "stream",
     "text": [
      "[5. 3. 4. ... 0. 0. 0.]\n"
     ]
    }
   ],
   "source": [
    "print(R[0,:])"
   ]
  },
  {
   "cell_type": "code",
   "execution_count": null,
   "metadata": {},
   "outputs": [],
   "source": []
  }
 ],
 "metadata": {
  "kernelspec": {
   "display_name": "Python 3",
   "language": "python",
   "name": "python3"
  },
  "language_info": {
   "codemirror_mode": {
    "name": "ipython",
    "version": 3
   },
   "file_extension": ".py",
   "mimetype": "text/x-python",
   "name": "python",
   "nbconvert_exporter": "python",
   "pygments_lexer": "ipython3",
   "version": "3.6.9"
  }
 },
 "nbformat": 4,
 "nbformat_minor": 2
}
